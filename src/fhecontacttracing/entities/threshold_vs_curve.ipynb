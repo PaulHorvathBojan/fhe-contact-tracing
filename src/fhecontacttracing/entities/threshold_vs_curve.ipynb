{
 "cells": [
  {
   "cell_type": "code",
   "execution_count": 1,
   "metadata": {
    "collapsed": true
   },
   "outputs": [],
   "source": [
    "import time\n",
    "\n",
    "import numpy as np\n",
    "import math\n",
    "import cmath\n",
    "import os\n",
    "import unittest\n",
    "import random\n",
    "import gmpy2\n",
    "import util.random_sample\n",
    "\n",
    "from scipy.stats import bernoulli\n",
    "from ckks.ckks_decryptor import CKKSDecryptor\n",
    "from ckks.ckks_encoder import CKKSEncoder\n",
    "from ckks.ckks_encryptor import CKKSEncryptor\n",
    "from ckks.ckks_evaluator import CKKSEvaluator\n",
    "from ckks.ckks_key_generator import CKKSKeyGenerator\n",
    "from ckks.ckks_parameters import CKKSParameters\n",
    "from gmpy2 import mpfr\n",
    "from numpy import random\n",
    "\n",
    "import util.matrix_operations as mat\n",
    "from tests.helper import check_complex_vector_approx_eq\n",
    "from util.plaintext import Plaintext\n",
    "from util.random_sample import sample_random_complex_vector\n",
    "from util.ciphertext import Ciphertext\n",
    "from util.public_key import PublicKey\n",
    "\n",
    "from pymobility.models.mobility import gauss_markov\n",
    "\n",
    "from space_time_lord import *\n",
    "from gov_agent import *\n",
    "from mob_operator import *\n",
    "from user import *"
   ]
  },
  {
   "cell_type": "code",
   "execution_count": 2,
   "outputs": [],
   "source": [
    "TICK_COUNT = 100\n",
    "\n",
    "POPSIZE = 500  #7.5k/km**2 total, 5k/km**2 smartphone\n",
    "TOTAL_AREA_SIZES = (200, 200)\n",
    "AREA_SIDES = (50, 50)\n",
    "\n",
    "RISK_THRESHOLD = 10\n",
    "MO_COUNT = 2\n",
    "CONTACT_TUPLES = [(1, 14), (2, 12), (3, 11), (4, 10), (5, 9), (6, 9), (7, 9), (8, 8), (9, 7), (10, 7)]\n",
    "\n",
    "INFECTED_COUNT = 50"
   ],
   "metadata": {
    "collapsed": false
   }
  },
  {
   "cell_type": "code",
   "execution_count": 3,
   "outputs": [],
   "source": [
    "class DualIter:\n",
    "\n",
    "    def __init__(self, init_iter):\n",
    "        self._iterator = init_iter\n",
    "        self._change = True\n",
    "        self._next_val = None\n",
    "\n",
    "    def __next__(self):\n",
    "        if self._change:\n",
    "            self._next_val = next(self._iterator)\n",
    "        self._change = not self._change\n",
    "\n",
    "        return self._next_val.copy()\n",
    "\n",
    "\n",
    "class MinutelyMovement:\n",
    "    def __init__(self, movement_iter):\n",
    "        self._move = movement_iter\n",
    "\n",
    "    def __next__(self):\n",
    "        for i in range(60):\n",
    "            self_next = next(self._move)\n",
    "\n",
    "        return self_next"
   ],
   "metadata": {
    "collapsed": false
   }
  },
  {
   "cell_type": "code",
   "execution_count": 4,
   "outputs": [],
   "source": [
    "movements_iter = gauss_markov(nr_nodes=POPSIZE,\n",
    "                              dimensions=TOTAL_AREA_SIZES,\n",
    "                              alpha=.5,\n",
    "                              velocity_mean=7,\n",
    "                              variance=7)\n",
    "\n",
    "minutely_gm = MinutelyMovement(movements_iter)\n",
    "\n",
    "dual_gm = DualIter(minutely_gm)\n",
    "\n",
    "for iter_ct in range(len(CONTACT_TUPLES)):\n",
    "\n",
    "    contact_tuple = CONTACT_TUPLES[iter_ct]\n",
    "\n",
    "    plain_stl = SpaceTimeLord(movements_iterable=dual_gm,\n",
    "                              mo_count=MO_COUNT,\n",
    "                              risk_thr=RISK_THRESHOLD,\n",
    "                              area_sizes=AREA_SIDES,\n",
    "                              max_sizes=TOTAL_AREA_SIZES,\n",
    "                              exponent=contact_tuple[1])\n",
    "\n",
    "    simple_stl = SimpleSTL(movements_iterable=dual_gm,\n",
    "                           mo_count=MO_COUNT,\n",
    "                           risk_thr=RISK_THRESHOLD,\n",
    "                           area_sizes=AREA_SIDES,\n",
    "                           max_sizes=TOTAL_AREA_SIZES,\n",
    "                           contact_thr=contact_tuple[0])\n",
    "\n",
    "    infected_vect = util.random_sample.sample_hamming_weight_vector(length=POPSIZE,\n",
    "                                                                hamming_weight=INFECTED_COUNT)\n",
    "    infected_vect = list(map(abs, infected_vect))\n",
    "\n",
    "    plain_stl._ga._status = infected_vect\n",
    "    simple_stl._ga._status = infected_vect.copy()\n",
    "\n",
    "    for i in range(TICK_COUNT):\n",
    "        plain_stl.tick()\n",
    "        simple_stl.tick()\n",
    "\n",
    "    f = open(\"thrvscurve\" + str(contact_tuple[0]) + \"m.txt\", 'a')\n",
    "    for i in range(plain_stl.user_count):\n",
    "        plain_stl.users[i].ping_mo_for_score()\n",
    "        simple_stl.users[i].ping_mo_for_score()\n",
    "        f.write(str(simple_stl.users[i]._score, plain_stl.users[i]._score) + \"\\n\")\n",
    "    f.close()"
   ],
   "metadata": {
    "collapsed": false
   }
  }
 ],
 "metadata": {
  "kernelspec": {
   "display_name": "Python 3",
   "language": "python",
   "name": "python3"
  },
  "language_info": {
   "codemirror_mode": {
    "name": "ipython",
    "version": 2
   },
   "file_extension": ".py",
   "mimetype": "text/x-python",
   "name": "python",
   "nbconvert_exporter": "python",
   "pygments_lexer": "ipython2",
   "version": "2.7.6"
  }
 },
 "nbformat": 4,
 "nbformat_minor": 0
}
